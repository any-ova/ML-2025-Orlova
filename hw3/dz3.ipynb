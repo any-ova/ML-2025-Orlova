{
  "nbformat": 4,
  "nbformat_minor": 0,
  "metadata": {
    "colab": {
      "provenance": []
    },
    "kernelspec": {
      "name": "python3",
      "display_name": "Python 3"
    },
    "language_info": {
      "name": "python"
    }
  },
  "cells": [
    {
      "cell_type": "code",
      "execution_count": 30,
      "metadata": {
        "id": "ighaKlgVGbfp"
      },
      "outputs": [],
      "source": [
        "import torch\n",
        "import torch.nn.functional as F\n",
        "import torchvision\n",
        "import os\n",
        "from torch import nn\n",
        "from tqdm import tqdm\n",
        "import numpy as np\n",
        "import matplotlib.pyplot as plt\n"
      ]
    },
    {
      "cell_type": "code",
      "source": [
        "transform = torchvision.transforms.Compose(\n",
        "    [\n",
        "        torchvision.transforms.ToTensor(),\n",
        "        torchvision.transforms.Normalize((0.1307,), (0.3081,))\n",
        "    ]\n",
        ")"
      ],
      "metadata": {
        "id": "-TnCn-RoQhuY"
      },
      "execution_count": 31,
      "outputs": []
    },
    {
      "cell_type": "code",
      "source": [
        "def seed_everything(seed):\n",
        "    os.environ['PYTHONHASHSEED'] = str(seed)\n",
        "    np.random.seed(seed)\n",
        "    torch.manual_seed(seed)\n",
        "    torch.backends.cudnn.deterministic = True\n",
        "    torch.backends.cudnn.benchmark = False\n"
      ],
      "metadata": {
        "id": "_brvTZIfQlc0"
      },
      "execution_count": 32,
      "outputs": []
    },
    {
      "cell_type": "code",
      "source": [
        "seed_everything(42)\n",
        "\n",
        "mnist_train = torchvision.datasets.MNIST(\n",
        "    './mnist/',\n",
        "    train=True,\n",
        "    download=True,\n",
        "    transform=transform\n",
        ")\n",
        "\n",
        "mnist_val = torchvision.datasets.MNIST(\n",
        "    './mnist/',\n",
        "    train=False,\n",
        "    download=True,\n",
        "    transform=transform\n",
        ")\n",
        "\n",
        "train_dataloader = torch.utils.data.DataLoader(mnist_train, batch_size=64, shuffle=True)\n",
        "val_dataloader = torch.utils.data.DataLoader(mnist_val, batch_size=64, shuffle=True)"
      ],
      "metadata": {
        "id": "k7GUVop3QmN_"
      },
      "execution_count": 33,
      "outputs": []
    },
    {
      "cell_type": "code",
      "source": [
        "model = nn.Sequential(\n",
        "    nn.Conv2d(in_channels=1, out_channels=10, kernel_size=3),\n",
        "    nn.ReLU(),\n",
        "    nn.MaxPool2d(kernel_size=4),\n",
        "    nn.Flatten(),\n",
        "    nn.Linear(6*6*10, 128),\n",
        "    nn.ReLU(),\n",
        "    nn.Linear(128, 10),\n",
        "    nn.LogSoftmax(dim=1)\n",
        ")\n",
        "\n",
        "optimizer = torch.optim.Adam(model.parameters(), lr=0.001, betas=(0.9, 0.999), eps=1e-8, weight_decay=0, amsgrad=False)\n",
        "scheduler = torch.optim.lr_scheduler.ReduceLROnPlateau(optimizer, mode='min', factor=0.1, patience=2)"
      ],
      "metadata": {
        "id": "GEqNvuXzQrIp"
      },
      "execution_count": 34,
      "outputs": []
    },
    {
      "cell_type": "code",
      "source": [
        "def train(model, optimizer, scheduler, n_epochs=5):\n",
        "    val_losses_for_plot = []\n",
        "    val_accs_for_plot = []\n",
        "    epochs_for_plot = []\n",
        "    for epoch in range(n_epochs):\n",
        "\n",
        "        # обучение\n",
        "        for x_train, y_train in tqdm(train_dataloader):\n",
        "            y_pred = model(x_train)\n",
        "            loss = F.nll_loss(y_pred, y_train)\n",
        "            loss.backward()\n",
        "            optimizer.step()\n",
        "            optimizer.zero_grad()\n",
        "\n",
        "        # валидация\n",
        "        if epoch % 2 == 0:\n",
        "            val_loss = []\n",
        "            val_accuracy = []\n",
        "            with torch.no_grad():\n",
        "                for x_val, y_val in tqdm(val_dataloader):\n",
        "                    y_pred = model(x_val)\n",
        "                    loss = F.nll_loss(y_pred, y_val)\n",
        "                    val_loss.append(loss.numpy())\n",
        "                    val_accuracy.extend((torch.argmax(y_pred, dim=-1) == y_val).numpy().tolist())\n",
        "\n",
        "            print(f'Epoch: {epoch}, loss: {np.mean(val_loss)}, accuracy: {np.mean(val_accuracy)}')\n",
        "            val_losses_for_plot.append(np.mean(val_loss))\n",
        "            val_accs_for_plot.append(np.mean(val_accuracy))\n",
        "            epochs_for_plot.append(epoch)\n",
        "            scheduler.step(np.mean(val_loss))\n",
        "    return val_losses_for_plot, val_accs_for_plot, epochs_for_plot"
      ],
      "metadata": {
        "id": "JJLj85RlQ1gu"
      },
      "execution_count": 35,
      "outputs": []
    },
    {
      "cell_type": "code",
      "source": [
        "train(model, optimizer,scheduler )"
      ],
      "metadata": {
        "colab": {
          "base_uri": "https://localhost:8080/"
        },
        "id": "gWvnXa5tQ4P3",
        "outputId": "ceab1d96-8101-4f2e-99c7-f9c85054191a"
      },
      "execution_count": 36,
      "outputs": [
        {
          "output_type": "stream",
          "name": "stderr",
          "text": [
            "100%|██████████| 938/938 [00:30<00:00, 31.15it/s]\n",
            "100%|██████████| 157/157 [00:02<00:00, 53.34it/s]\n"
          ]
        },
        {
          "output_type": "stream",
          "name": "stdout",
          "text": [
            "Epoch: 0, loss: 0.11949057877063751, accuracy: 0.9625\n"
          ]
        },
        {
          "output_type": "stream",
          "name": "stderr",
          "text": [
            "100%|██████████| 938/938 [00:25<00:00, 37.07it/s]\n",
            "100%|██████████| 938/938 [00:25<00:00, 37.04it/s]\n",
            "100%|██████████| 157/157 [00:03<00:00, 47.42it/s]\n"
          ]
        },
        {
          "output_type": "stream",
          "name": "stdout",
          "text": [
            "Epoch: 2, loss: 0.06045357137918472, accuracy: 0.981\n"
          ]
        },
        {
          "output_type": "stream",
          "name": "stderr",
          "text": [
            "100%|██████████| 938/938 [00:26<00:00, 35.49it/s]\n",
            "100%|██████████| 938/938 [00:25<00:00, 37.06it/s]\n",
            "100%|██████████| 157/157 [00:03<00:00, 48.08it/s]"
          ]
        },
        {
          "output_type": "stream",
          "name": "stdout",
          "text": [
            "Epoch: 4, loss: 0.059814319014549255, accuracy: 0.9809\n"
          ]
        },
        {
          "output_type": "stream",
          "name": "stderr",
          "text": [
            "\n"
          ]
        },
        {
          "output_type": "execute_result",
          "data": {
            "text/plain": [
              "([np.float32(0.11949058), np.float32(0.06045357), np.float32(0.05981432)],\n",
              " [np.float64(0.9625), np.float64(0.981), np.float64(0.9809)],\n",
              " [0, 2, 4])"
            ]
          },
          "metadata": {},
          "execution_count": 36
        }
      ]
    },
    {
      "cell_type": "code",
      "source": [
        "val_losses, val_accs, epochs = train(model, optimizer, scheduler, n_epochs=10)\n",
        "\n",
        "plt.figure(figsize=(12, 4))\n",
        "plt.subplot(1, 2, 1)\n",
        "plt.plot(epochs, val_losses, 'o-', label='Val Loss', color='orange')\n",
        "plt.title('Validation Loss по эпохам')\n",
        "plt.xlabel('Эпоха')\n",
        "plt.ylabel('Loss')\n",
        "plt.legend()\n",
        "plt.grid(True)\n",
        "\n",
        "plt.subplot(1, 2, 2)\n",
        "plt.plot(epochs, val_accs, '^-', label='Val Accuracy', color='green')\n",
        "plt.title('Validation Accuracy по эпохам')\n",
        "plt.xlabel('Эпоха')\n",
        "plt.ylabel('Accuracy')\n",
        "plt.legend()\n",
        "plt.grid(True)\n",
        "\n",
        "plt.tight_layout()\n",
        "plt.show()\n",
        "\n",
        "print(f\"Лучшая точность: {max(val_accs)}\")\n",
        "print(f\"Минимальный loss: {min(val_losses)}\")"
      ],
      "metadata": {
        "colab": {
          "base_uri": "https://localhost:8080/",
          "height": 789
        },
        "id": "5-TgYpZUUhLR",
        "outputId": "dca782b2-9eea-4137-a313-f5d6fb0c1d6e"
      },
      "execution_count": 37,
      "outputs": [
        {
          "output_type": "stream",
          "name": "stderr",
          "text": [
            "100%|██████████| 938/938 [00:25<00:00, 37.26it/s]\n",
            "100%|██████████| 157/157 [00:02<00:00, 52.73it/s]\n"
          ]
        },
        {
          "output_type": "stream",
          "name": "stdout",
          "text": [
            "Epoch: 0, loss: 0.044606827199459076, accuracy: 0.9855\n"
          ]
        },
        {
          "output_type": "stream",
          "name": "stderr",
          "text": [
            "100%|██████████| 938/938 [00:25<00:00, 37.00it/s]\n",
            "100%|██████████| 938/938 [00:25<00:00, 37.10it/s]\n",
            "100%|██████████| 157/157 [00:02<00:00, 54.24it/s]\n"
          ]
        },
        {
          "output_type": "stream",
          "name": "stdout",
          "text": [
            "Epoch: 2, loss: 0.04454183951020241, accuracy: 0.9863\n"
          ]
        },
        {
          "output_type": "stream",
          "name": "stderr",
          "text": [
            "100%|██████████| 938/938 [00:25<00:00, 37.06it/s]\n",
            "100%|██████████| 938/938 [00:25<00:00, 37.26it/s]\n",
            "100%|██████████| 157/157 [00:02<00:00, 53.79it/s]\n"
          ]
        },
        {
          "output_type": "stream",
          "name": "stdout",
          "text": [
            "Epoch: 4, loss: 0.042078565806150436, accuracy: 0.9868\n"
          ]
        },
        {
          "output_type": "stream",
          "name": "stderr",
          "text": [
            "100%|██████████| 938/938 [00:25<00:00, 37.36it/s]\n",
            "100%|██████████| 938/938 [00:25<00:00, 37.24it/s]\n",
            "100%|██████████| 157/157 [00:03<00:00, 41.45it/s]\n"
          ]
        },
        {
          "output_type": "stream",
          "name": "stdout",
          "text": [
            "Epoch: 6, loss: 0.044425539672374725, accuracy: 0.9862\n"
          ]
        },
        {
          "output_type": "stream",
          "name": "stderr",
          "text": [
            "100%|██████████| 938/938 [00:25<00:00, 37.22it/s]\n",
            "100%|██████████| 938/938 [00:25<00:00, 37.49it/s]\n",
            "100%|██████████| 157/157 [00:03<00:00, 49.94it/s]\n"
          ]
        },
        {
          "output_type": "stream",
          "name": "stdout",
          "text": [
            "Epoch: 8, loss: 0.04746706038713455, accuracy: 0.9867\n"
          ]
        },
        {
          "output_type": "stream",
          "name": "stderr",
          "text": [
            "100%|██████████| 938/938 [00:25<00:00, 37.48it/s]\n"
          ]
        },
        {
          "output_type": "display_data",
          "data": {
            "text/plain": [
              "<Figure size 1200x400 with 2 Axes>"
            ],
            "image/png": "[encoded data removed]"
          },
          "metadata": {}
        },
        {
          "output_type": "stream",
          "name": "stdout",
          "text": [
            "Лучшая точность: 0.9868\n",
            "Минимальный loss: 0.042078565806150436\n"
          ]
        }
      ]
    },
    {
      "cell_type": "code",
      "source": [
        "total = 0\n",
        "for p in model.parameters():\n",
        "    if p.requires_grad:\n",
        "        total += p.numel()\n",
        "\n",
        "print(f\"Всего обучаемых параметров: {total}\")"
      ],
      "metadata": {
        "colab": {
          "base_uri": "https://localhost:8080/"
        },
        "id": "b5V-rPFuQ41w",
        "outputId": "2fbfba1f-3c84-4dce-cabb-2e637d7c1e2e"
      },
      "execution_count": 38,
      "outputs": [
        {
          "output_type": "stream",
          "name": "stdout",
          "text": [
            "Всего обучаемых параметров: 47598\n"
          ]
        }
      ]
    },
    {
      "cell_type": "code",
      "source": [
        "def create_model():\n",
        "    return nn.Sequential(\n",
        "        nn.Conv2d(in_channels=1, out_channels=10, kernel_size=3),\n",
        "        nn.ReLU(),\n",
        "        nn.MaxPool2d(kernel_size=4),\n",
        "        nn.Flatten(),\n",
        "        nn.Linear(6*6*10, 128),\n",
        "        nn.ReLU(),\n",
        "        nn.Linear(128, 10),\n",
        "        nn.LogSoftmax(dim=1)\n",
        "    )"
      ],
      "metadata": {
        "id": "bJiYoP0XZ7Ms"
      },
      "execution_count": 39,
      "outputs": []
    },
    {
      "cell_type": "code",
      "source": [
        "configs = [\n",
        "    {\"name\": \"Adam_lr0.001_wd1e-4\", \"lr\": 0.001, \"weight_decay\": 1e-4},\n",
        "    {\"name\": \"Adam_lr0.002_wd0\",    \"lr\": 0.002, \"weight_decay\": 0},\n",
        "    {\"name\": \"Adam_lr0.0005_wd1e-5\", \"lr\": 0.0005, \"weight_decay\": 1e-5}\n",
        "]"
      ],
      "metadata": {
        "id": "GzvS6D9bfTEk"
      },
      "execution_count": 40,
      "outputs": []
    },
    {
      "cell_type": "code",
      "source": [
        "results = []\n",
        "\n",
        "for config in configs:\n",
        "    print(f\"Запускаем: {config['name']}\")\n",
        "\n",
        "    model = create_model()\n",
        "\n",
        "    optimizer = torch.optim.Adam(model.parameters(), lr=config['lr'], weight_decay=config['weight_decay'])\n",
        "    scheduler = torch.optim.lr_scheduler.ReduceLROnPlateau(optimizer, mode='min', patience=2)\n",
        "\n",
        "    val_losses, val_accs, epochs = train(model, optimizer, scheduler, n_epochs=5)\n",
        "\n",
        "    best_acc = max(val_accs)\n",
        "    min_loss = min(val_losses)\n",
        "    total_params = sum(p.numel() for p in model.parameters() if p.requires_grad)\n",
        "\n",
        "    results.append({\n",
        "        \"config\": config['name'],\n",
        "        \"best_accuracy\": best_acc,\n",
        "        \"min_loss\": min_loss,\n",
        "        \"params\": total_params,\n",
        "        \"val_accs\": val_accs,\n",
        "        \"epochs\": epochs\n",
        "    })"
      ],
      "metadata": {
        "colab": {
          "base_uri": "https://localhost:8080/"
        },
        "id": "SFU1dGSEfYp0",
        "outputId": "221b4dee-3be2-4237-fe8e-5c2ae0e80f7b"
      },
      "execution_count": 42,
      "outputs": [
        {
          "output_type": "stream",
          "name": "stdout",
          "text": [
            "Запускаем: Adam_lr0.001_wd1e-4\n"
          ]
        },
        {
          "output_type": "stream",
          "name": "stderr",
          "text": [
            "100%|██████████| 938/938 [00:24<00:00, 38.06it/s]\n",
            "100%|██████████| 157/157 [00:02<00:00, 54.09it/s]\n"
          ]
        },
        {
          "output_type": "stream",
          "name": "stdout",
          "text": [
            "Epoch: 0, loss: 0.12214718759059906, accuracy: 0.9623\n"
          ]
        },
        {
          "output_type": "stream",
          "name": "stderr",
          "text": [
            "100%|██████████| 938/938 [00:24<00:00, 37.93it/s]\n",
            "100%|██████████| 938/938 [00:25<00:00, 36.89it/s]\n",
            "100%|██████████| 157/157 [00:03<00:00, 51.18it/s]\n"
          ]
        },
        {
          "output_type": "stream",
          "name": "stdout",
          "text": [
            "Epoch: 2, loss: 0.06752873212099075, accuracy: 0.9769\n"
          ]
        },
        {
          "output_type": "stream",
          "name": "stderr",
          "text": [
            "100%|██████████| 938/938 [00:26<00:00, 35.20it/s]\n",
            "100%|██████████| 938/938 [00:26<00:00, 35.90it/s]\n",
            "100%|██████████| 157/157 [00:03<00:00, 41.52it/s]\n"
          ]
        },
        {
          "output_type": "stream",
          "name": "stdout",
          "text": [
            "Epoch: 4, loss: 0.08401260524988174, accuracy: 0.9718\n",
            "Запускаем: Adam_lr0.002_wd0\n"
          ]
        },
        {
          "output_type": "stream",
          "name": "stderr",
          "text": [
            "100%|██████████| 938/938 [00:24<00:00, 38.44it/s]\n",
            "100%|██████████| 157/157 [00:03<00:00, 44.83it/s]\n"
          ]
        },
        {
          "output_type": "stream",
          "name": "stdout",
          "text": [
            "Epoch: 0, loss: 0.0781727135181427, accuracy: 0.974\n"
          ]
        },
        {
          "output_type": "stream",
          "name": "stderr",
          "text": [
            "100%|██████████| 938/938 [00:24<00:00, 37.88it/s]\n",
            "100%|██████████| 938/938 [00:24<00:00, 37.92it/s]\n",
            "100%|██████████| 157/157 [00:02<00:00, 55.09it/s]\n"
          ]
        },
        {
          "output_type": "stream",
          "name": "stdout",
          "text": [
            "Epoch: 2, loss: 0.05408730357885361, accuracy: 0.9808\n"
          ]
        },
        {
          "output_type": "stream",
          "name": "stderr",
          "text": [
            "100%|██████████| 938/938 [00:24<00:00, 37.90it/s]\n",
            "100%|██████████| 938/938 [00:24<00:00, 37.94it/s]\n",
            "100%|██████████| 157/157 [00:02<00:00, 54.34it/s]\n"
          ]
        },
        {
          "output_type": "stream",
          "name": "stdout",
          "text": [
            "Epoch: 4, loss: 0.051072996109724045, accuracy: 0.983\n",
            "Запускаем: Adam_lr0.0005_wd1e-5\n"
          ]
        },
        {
          "output_type": "stream",
          "name": "stderr",
          "text": [
            "100%|██████████| 938/938 [00:24<00:00, 38.22it/s]\n",
            "100%|██████████| 157/157 [00:02<00:00, 53.94it/s]\n"
          ]
        },
        {
          "output_type": "stream",
          "name": "stdout",
          "text": [
            "Epoch: 0, loss: 0.1288047581911087, accuracy: 0.9613\n"
          ]
        },
        {
          "output_type": "stream",
          "name": "stderr",
          "text": [
            "100%|██████████| 938/938 [00:24<00:00, 37.98it/s]\n",
            "100%|██████████| 938/938 [00:24<00:00, 37.69it/s]\n",
            "100%|██████████| 157/157 [00:02<00:00, 54.46it/s]\n"
          ]
        },
        {
          "output_type": "stream",
          "name": "stdout",
          "text": [
            "Epoch: 2, loss: 0.07273605465888977, accuracy: 0.976\n"
          ]
        },
        {
          "output_type": "stream",
          "name": "stderr",
          "text": [
            "100%|██████████| 938/938 [00:24<00:00, 38.05it/s]\n",
            "100%|██████████| 938/938 [00:24<00:00, 38.06it/s]\n",
            "100%|██████████| 157/157 [00:02<00:00, 54.75it/s]"
          ]
        },
        {
          "output_type": "stream",
          "name": "stdout",
          "text": [
            "Epoch: 4, loss: 0.05940689891576767, accuracy: 0.9799\n"
          ]
        },
        {
          "output_type": "stream",
          "name": "stderr",
          "text": [
            "\n"
          ]
        }
      ]
    },
    {
      "cell_type": "code",
      "source": [
        "for res in results:\n",
        "    print(f\"{res['config']:<25} , Accuracy: {res['best_accuracy']} \")\n",
        "\n",
        "winner = max(results, key=lambda x: x['best_accuracy'])\n",
        "print(f\"{winner['config']} - {winner['best_accuracy']}\")"
      ],
      "metadata": {
        "colab": {
          "base_uri": "https://localhost:8080/"
        },
        "id": "XiH8KWnZfh5P",
        "outputId": "2a40fe48-b83d-4815-beb6-86689458aceb"
      },
      "execution_count": 43,
      "outputs": [
        {
          "output_type": "stream",
          "name": "stdout",
          "text": [
            "Adam_lr0.001_wd1e-4       , Accuracy: 0.9769 \n",
            "Adam_lr0.002_wd0          , Accuracy: 0.983 \n",
            "Adam_lr0.0005_wd1e-5      , Accuracy: 0.9799 \n",
            "Adam_lr0.002_wd0 - 0.983\n"
          ]
        }
      ]
    },
    {
      "cell_type": "code",
      "source": [
        "if not results or best_acc > max([r['best_accuracy'] for r in results[:-1]] if len(results) > 1 else [0]):\n",
        "  torch.save(model.state_dict(), 'best_model.pth')\n"
      ],
      "metadata": {
        "id": "nj2WA6uOYNfA"
      },
      "execution_count": 44,
      "outputs": []
    }
  ]
}